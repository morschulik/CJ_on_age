{
 "cells": [
  {
   "cell_type": "code",
   "execution_count": 253,
   "metadata": {},
   "outputs": [],
   "source": [
    "import pandas as pd\n",
    "import csv"
   ]
  },
  {
   "cell_type": "code",
   "execution_count": 254,
   "metadata": {},
   "outputs": [],
   "source": [
    "#file = open('erg.csv')"
   ]
  },
  {
   "cell_type": "code",
   "execution_count": 255,
   "metadata": {},
   "outputs": [],
   "source": [
    "#csvreader = csv.reader(file)"
   ]
  },
  {
   "cell_type": "code",
   "execution_count": 256,
   "metadata": {},
   "outputs": [],
   "source": [
    "# header = []\n",
    "# header = next(csvreader)\n",
    "# header"
   ]
  },
  {
   "cell_type": "code",
   "execution_count": 257,
   "metadata": {},
   "outputs": [],
   "source": [
    "# rows = []\n",
    "# for row in csvreader:\n",
    "#         rows.append(row)\n",
    "# rows"
   ]
  },
  {
   "cell_type": "code",
   "execution_count": 258,
   "metadata": {},
   "outputs": [
    {
     "data": {
      "text/html": [
       "<div>\n",
       "<style scoped>\n",
       "    .dataframe tbody tr th:only-of-type {\n",
       "        vertical-align: middle;\n",
       "    }\n",
       "\n",
       "    .dataframe tbody tr th {\n",
       "        vertical-align: top;\n",
       "    }\n",
       "\n",
       "    .dataframe thead th {\n",
       "        text-align: right;\n",
       "    }\n",
       "</style>\n",
       "<table border=\"1\" class=\"dataframe\">\n",
       "  <thead>\n",
       "    <tr style=\"text-align: right;\">\n",
       "      <th></th>\n",
       "      <th>subject</th>\n",
       "      <th>stimulus</th>\n",
       "      <th>response</th>\n",
       "      <th>reactionTime</th>\n",
       "    </tr>\n",
       "  </thead>\n",
       "  <tbody>\n",
       "    <tr>\n",
       "      <th>0</th>\n",
       "      <td>AL_23_1_1_0</td>\n",
       "      <td>211,plop,171</td>\n",
       "      <td>2</td>\n",
       "      <td>3.865739e+15</td>\n",
       "    </tr>\n",
       "    <tr>\n",
       "      <th>1</th>\n",
       "      <td>AL_23_1_1_0</td>\n",
       "      <td>166,plop,206</td>\n",
       "      <td>1</td>\n",
       "      <td>4.384164e+15</td>\n",
       "    </tr>\n",
       "    <tr>\n",
       "      <th>2</th>\n",
       "      <td>AL_23_1_1_0</td>\n",
       "      <td>181,plop,191</td>\n",
       "      <td>2</td>\n",
       "      <td>3.754784e+15</td>\n",
       "    </tr>\n",
       "    <tr>\n",
       "      <th>3</th>\n",
       "      <td>AL_23_1_1_0</td>\n",
       "      <td>191,plop,171</td>\n",
       "      <td>2</td>\n",
       "      <td>3.920000e+16</td>\n",
       "    </tr>\n",
       "    <tr>\n",
       "      <th>4</th>\n",
       "      <td>AL_23_1_1_0</td>\n",
       "      <td>181,plop,166</td>\n",
       "      <td>2</td>\n",
       "      <td>3.710000e+16</td>\n",
       "    </tr>\n",
       "    <tr>\n",
       "      <th>...</th>\n",
       "      <td>...</td>\n",
       "      <td>...</td>\n",
       "      <td>...</td>\n",
       "      <td>...</td>\n",
       "    </tr>\n",
       "    <tr>\n",
       "      <th>1243</th>\n",
       "      <td>pab_30_0_0_0</td>\n",
       "      <td>186,plop,161</td>\n",
       "      <td>2</td>\n",
       "      <td>5.386086e+15</td>\n",
       "    </tr>\n",
       "    <tr>\n",
       "      <th>1244</th>\n",
       "      <td>pab_30_0_0_0</td>\n",
       "      <td>181,plop,171</td>\n",
       "      <td>1</td>\n",
       "      <td>6.280000e+16</td>\n",
       "    </tr>\n",
       "    <tr>\n",
       "      <th>1245</th>\n",
       "      <td>pab_30_0_0_0</td>\n",
       "      <td>201,plop,171</td>\n",
       "      <td>2</td>\n",
       "      <td>5.160000e+15</td>\n",
       "    </tr>\n",
       "    <tr>\n",
       "      <th>1246</th>\n",
       "      <td>pab_30_0_0_0</td>\n",
       "      <td>216,plop,201</td>\n",
       "      <td>2</td>\n",
       "      <td>5.150000e+16</td>\n",
       "    </tr>\n",
       "    <tr>\n",
       "      <th>1247</th>\n",
       "      <td>pab_30_0_0_0</td>\n",
       "      <td>166,plop,206</td>\n",
       "      <td>1</td>\n",
       "      <td>4.918186e+15</td>\n",
       "    </tr>\n",
       "  </tbody>\n",
       "</table>\n",
       "<p>1248 rows × 4 columns</p>\n",
       "</div>"
      ],
      "text/plain": [
       "           subject      stimulus  response  reactionTime\n",
       "0      AL_23_1_1_0  211,plop,171         2  3.865739e+15\n",
       "1      AL_23_1_1_0  166,plop,206         1  4.384164e+15\n",
       "2      AL_23_1_1_0  181,plop,191         2  3.754784e+15\n",
       "3      AL_23_1_1_0  191,plop,171         2  3.920000e+16\n",
       "4      AL_23_1_1_0  181,plop,166         2  3.710000e+16\n",
       "...            ...           ...       ...           ...\n",
       "1243  pab_30_0_0_0  186,plop,161         2  5.386086e+15\n",
       "1244  pab_30_0_0_0  181,plop,171         1  6.280000e+16\n",
       "1245  pab_30_0_0_0  201,plop,171         2  5.160000e+15\n",
       "1246  pab_30_0_0_0  216,plop,201         2  5.150000e+16\n",
       "1247  pab_30_0_0_0  166,plop,206         1  4.918186e+15\n",
       "\n",
       "[1248 rows x 4 columns]"
      ]
     },
     "execution_count": 258,
     "metadata": {},
     "output_type": "execute_result"
    }
   ],
   "source": [
    "df = pd.read_csv(\"erg.csv\")\n",
    "df"
   ]
  },
  {
   "cell_type": "code",
   "execution_count": 259,
   "metadata": {},
   "outputs": [
    {
     "data": {
      "text/plain": [
       "subject          object\n",
       "stimulus         object\n",
       "response          int64\n",
       "reactionTime    float64\n",
       "dtype: object"
      ]
     },
     "execution_count": 259,
     "metadata": {},
     "output_type": "execute_result"
    }
   ],
   "source": [
    "df.dtypes"
   ]
  },
  {
   "cell_type": "code",
   "execution_count": 260,
   "metadata": {},
   "outputs": [],
   "source": [
    "df['stimulus'] = df['stimulus'].astype(str)"
   ]
  },
  {
   "cell_type": "code",
   "execution_count": 261,
   "metadata": {},
   "outputs": [
    {
     "data": {
      "text/plain": [
       "subject          object\n",
       "stimulus         object\n",
       "response          int64\n",
       "reactionTime    float64\n",
       "dtype: object"
      ]
     },
     "execution_count": 261,
     "metadata": {},
     "output_type": "execute_result"
    }
   ],
   "source": [
    "df.dtypes"
   ]
  },
  {
   "cell_type": "code",
   "execution_count": 262,
   "metadata": {},
   "outputs": [
    {
     "data": {
      "text/html": [
       "<div>\n",
       "<style scoped>\n",
       "    .dataframe tbody tr th:only-of-type {\n",
       "        vertical-align: middle;\n",
       "    }\n",
       "\n",
       "    .dataframe tbody tr th {\n",
       "        vertical-align: top;\n",
       "    }\n",
       "\n",
       "    .dataframe thead th {\n",
       "        text-align: right;\n",
       "    }\n",
       "</style>\n",
       "<table border=\"1\" class=\"dataframe\">\n",
       "  <thead>\n",
       "    <tr style=\"text-align: right;\">\n",
       "      <th></th>\n",
       "      <th>subject</th>\n",
       "      <th>stimulus</th>\n",
       "      <th>response</th>\n",
       "      <th>reactionTime</th>\n",
       "    </tr>\n",
       "  </thead>\n",
       "  <tbody>\n",
       "    <tr>\n",
       "      <th>0</th>\n",
       "      <td>AL_23_1_1_0</td>\n",
       "      <td>211,plop,171</td>\n",
       "      <td>2</td>\n",
       "      <td>3.865739e+15</td>\n",
       "    </tr>\n",
       "    <tr>\n",
       "      <th>1</th>\n",
       "      <td>AL_23_1_1_0</td>\n",
       "      <td>166,plop,206</td>\n",
       "      <td>1</td>\n",
       "      <td>4.384164e+15</td>\n",
       "    </tr>\n",
       "    <tr>\n",
       "      <th>2</th>\n",
       "      <td>AL_23_1_1_0</td>\n",
       "      <td>181,plop,191</td>\n",
       "      <td>2</td>\n",
       "      <td>3.754784e+15</td>\n",
       "    </tr>\n",
       "    <tr>\n",
       "      <th>3</th>\n",
       "      <td>AL_23_1_1_0</td>\n",
       "      <td>191,plop,171</td>\n",
       "      <td>2</td>\n",
       "      <td>3.920000e+16</td>\n",
       "    </tr>\n",
       "    <tr>\n",
       "      <th>4</th>\n",
       "      <td>AL_23_1_1_0</td>\n",
       "      <td>181,plop,166</td>\n",
       "      <td>2</td>\n",
       "      <td>3.710000e+16</td>\n",
       "    </tr>\n",
       "    <tr>\n",
       "      <th>...</th>\n",
       "      <td>...</td>\n",
       "      <td>...</td>\n",
       "      <td>...</td>\n",
       "      <td>...</td>\n",
       "    </tr>\n",
       "    <tr>\n",
       "      <th>1243</th>\n",
       "      <td>pab_30_0_0_0</td>\n",
       "      <td>186,plop,161</td>\n",
       "      <td>2</td>\n",
       "      <td>5.386086e+15</td>\n",
       "    </tr>\n",
       "    <tr>\n",
       "      <th>1244</th>\n",
       "      <td>pab_30_0_0_0</td>\n",
       "      <td>181,plop,171</td>\n",
       "      <td>1</td>\n",
       "      <td>6.280000e+16</td>\n",
       "    </tr>\n",
       "    <tr>\n",
       "      <th>1245</th>\n",
       "      <td>pab_30_0_0_0</td>\n",
       "      <td>201,plop,171</td>\n",
       "      <td>2</td>\n",
       "      <td>5.160000e+15</td>\n",
       "    </tr>\n",
       "    <tr>\n",
       "      <th>1246</th>\n",
       "      <td>pab_30_0_0_0</td>\n",
       "      <td>216,plop,201</td>\n",
       "      <td>2</td>\n",
       "      <td>5.150000e+16</td>\n",
       "    </tr>\n",
       "    <tr>\n",
       "      <th>1247</th>\n",
       "      <td>pab_30_0_0_0</td>\n",
       "      <td>166,plop,206</td>\n",
       "      <td>1</td>\n",
       "      <td>4.918186e+15</td>\n",
       "    </tr>\n",
       "  </tbody>\n",
       "</table>\n",
       "<p>1248 rows × 4 columns</p>\n",
       "</div>"
      ],
      "text/plain": [
       "           subject      stimulus  response  reactionTime\n",
       "0      AL_23_1_1_0  211,plop,171         2  3.865739e+15\n",
       "1      AL_23_1_1_0  166,plop,206         1  4.384164e+15\n",
       "2      AL_23_1_1_0  181,plop,191         2  3.754784e+15\n",
       "3      AL_23_1_1_0  191,plop,171         2  3.920000e+16\n",
       "4      AL_23_1_1_0  181,plop,166         2  3.710000e+16\n",
       "...            ...           ...       ...           ...\n",
       "1243  pab_30_0_0_0  186,plop,161         2  5.386086e+15\n",
       "1244  pab_30_0_0_0  181,plop,171         1  6.280000e+16\n",
       "1245  pab_30_0_0_0  201,plop,171         2  5.160000e+15\n",
       "1246  pab_30_0_0_0  216,plop,201         2  5.150000e+16\n",
       "1247  pab_30_0_0_0  166,plop,206         1  4.918186e+15\n",
       "\n",
       "[1248 rows x 4 columns]"
      ]
     },
     "execution_count": 262,
     "metadata": {},
     "output_type": "execute_result"
    }
   ],
   "source": [
    "df"
   ]
  },
  {
   "cell_type": "code",
   "execution_count": 263,
   "metadata": {},
   "outputs": [],
   "source": [
    "\n",
    "# Using Series.values.tolist()\n",
    "col_list = df[\"stimulus\"].values.tolist()"
   ]
  },
  {
   "cell_type": "code",
   "execution_count": 264,
   "metadata": {},
   "outputs": [
    {
     "data": {
      "text/plain": [
       "0       211,plop,171\n",
       "1       166,plop,206\n",
       "2       181,plop,191\n",
       "3       191,plop,171\n",
       "4       181,plop,166\n",
       "            ...     \n",
       "1243    186,plop,161\n",
       "1244    181,plop,171\n",
       "1245    201,plop,171\n",
       "1246    216,plop,201\n",
       "1247    166,plop,206\n",
       "Name: stimulus, Length: 1248, dtype: object"
      ]
     },
     "execution_count": 264,
     "metadata": {},
     "output_type": "execute_result"
    }
   ],
   "source": [
    "df[\"stimulus\"]"
   ]
  },
  {
   "cell_type": "code",
   "execution_count": 265,
   "metadata": {},
   "outputs": [],
   "source": [
    "df['stimulus'] = df['stimulus'].str.split(',').map(lambda elements: [e.strip() for e in elements])\n"
   ]
  },
  {
   "cell_type": "code",
   "execution_count": 266,
   "metadata": {},
   "outputs": [],
   "source": [
    "df['stimulus'] = df.stimulus.apply(lambda x: [i for i in x if i != 'plop'])"
   ]
  },
  {
   "cell_type": "code",
   "execution_count": 267,
   "metadata": {},
   "outputs": [
    {
     "data": {
      "text/plain": [
       "0       [211, 171]\n",
       "1       [166, 206]\n",
       "2       [181, 191]\n",
       "3       [191, 171]\n",
       "4       [181, 166]\n",
       "           ...    \n",
       "1243    [186, 161]\n",
       "1244    [181, 171]\n",
       "1245    [201, 171]\n",
       "1246    [216, 201]\n",
       "1247    [166, 206]\n",
       "Name: stimulus, Length: 1248, dtype: object"
      ]
     },
     "execution_count": 267,
     "metadata": {},
     "output_type": "execute_result"
    }
   ],
   "source": [
    "df['stimulus']"
   ]
  },
  {
   "cell_type": "code",
   "execution_count": 2,
   "metadata": {},
   "outputs": [
    {
     "ename": "NameError",
     "evalue": "name 'df' is not defined",
     "output_type": "error",
     "traceback": [
      "\u001b[0;31m---------------------------------------------------------------------------\u001b[0m",
      "\u001b[0;31mNameError\u001b[0m                                 Traceback (most recent call last)",
      "Cell \u001b[0;32mIn [2], line 2\u001b[0m\n\u001b[1;32m      1\u001b[0m \u001b[38;5;66;03m#probe problem\u001b[39;00m\n\u001b[0;32m----> 2\u001b[0m a \u001b[38;5;241m=\u001b[39m df\u001b[38;5;241m.\u001b[39mvalues\n\u001b[1;32m      3\u001b[0m (a\u001b[38;5;241m.\u001b[39mT[:, \u001b[38;5;28;01mNone\u001b[39;00m]\u001b[38;5;241m&\u001b[39ma\u001b[38;5;241m.\u001b[39mT)\u001b[38;5;241m.\u001b[39msum(axis\u001b[38;5;241m=\u001b[39m\u001b[38;5;241m2\u001b[39m)\n",
      "\u001b[0;31mNameError\u001b[0m: name 'df' is not defined"
     ]
    }
   ],
   "source": [
    "#probe problem\n"
   ]
  },
  {
   "cell_type": "code",
   "execution_count": null,
   "metadata": {},
   "outputs": [],
   "source": []
  }
 ],
 "metadata": {
  "kernelspec": {
   "display_name": "Python 3.8.10 ('venv': venv)",
   "language": "python",
   "name": "python3"
  },
  "language_info": {
   "codemirror_mode": {
    "name": "ipython",
    "version": 3
   },
   "file_extension": ".py",
   "mimetype": "text/x-python",
   "name": "python",
   "nbconvert_exporter": "python",
   "pygments_lexer": "ipython3",
   "version": "3.8.10"
  },
  "orig_nbformat": 4,
  "vscode": {
   "interpreter": {
    "hash": "5332b62c93ae8f8a64acd3157eafaab09c5525c691dff48281c02c0d0eb50625"
   }
  }
 },
 "nbformat": 4,
 "nbformat_minor": 2
}
