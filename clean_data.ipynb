{
 "cells": [
  {
   "cell_type": "code",
   "execution_count": 55,
   "metadata": {},
   "outputs": [],
   "source": [
    "import pandas as pd\n",
    "import numpy as np\n",
    "import csv"
   ]
  },
  {
   "cell_type": "code",
   "execution_count": 56,
   "metadata": {},
   "outputs": [],
   "source": [
    "#file = open('erg.csv')"
   ]
  },
  {
   "cell_type": "code",
   "execution_count": 57,
   "metadata": {},
   "outputs": [],
   "source": [
    "#csvreader = csv.reader(file)"
   ]
  },
  {
   "cell_type": "code",
   "execution_count": 58,
   "metadata": {},
   "outputs": [],
   "source": [
    "# header = []\n",
    "# header = next(csvreader)\n",
    "# header"
   ]
  },
  {
   "cell_type": "code",
   "execution_count": 59,
   "metadata": {},
   "outputs": [],
   "source": [
    "# rows = []\n",
    "# for row in csvreader:\n",
    "#         rows.append(row)\n",
    "# rows"
   ]
  },
  {
   "cell_type": "code",
   "execution_count": 60,
   "metadata": {},
   "outputs": [
    {
     "data": {
      "text/html": [
       "<div>\n",
       "<style scoped>\n",
       "    .dataframe tbody tr th:only-of-type {\n",
       "        vertical-align: middle;\n",
       "    }\n",
       "\n",
       "    .dataframe tbody tr th {\n",
       "        vertical-align: top;\n",
       "    }\n",
       "\n",
       "    .dataframe thead th {\n",
       "        text-align: right;\n",
       "    }\n",
       "</style>\n",
       "<table border=\"1\" class=\"dataframe\">\n",
       "  <thead>\n",
       "    <tr style=\"text-align: right;\">\n",
       "      <th></th>\n",
       "      <th>subject</th>\n",
       "      <th>stimulus</th>\n",
       "      <th>response</th>\n",
       "      <th>reactionTime</th>\n",
       "    </tr>\n",
       "  </thead>\n",
       "  <tbody>\n",
       "    <tr>\n",
       "      <th>0</th>\n",
       "      <td>AL_23_1_1_0</td>\n",
       "      <td>211,plop,171</td>\n",
       "      <td>2</td>\n",
       "      <td>3.865739e+15</td>\n",
       "    </tr>\n",
       "    <tr>\n",
       "      <th>1</th>\n",
       "      <td>AL_23_1_1_0</td>\n",
       "      <td>166,plop,206</td>\n",
       "      <td>1</td>\n",
       "      <td>4.384164e+15</td>\n",
       "    </tr>\n",
       "    <tr>\n",
       "      <th>2</th>\n",
       "      <td>AL_23_1_1_0</td>\n",
       "      <td>181,plop,191</td>\n",
       "      <td>2</td>\n",
       "      <td>3.754784e+15</td>\n",
       "    </tr>\n",
       "    <tr>\n",
       "      <th>3</th>\n",
       "      <td>AL_23_1_1_0</td>\n",
       "      <td>191,plop,171</td>\n",
       "      <td>2</td>\n",
       "      <td>3.920000e+16</td>\n",
       "    </tr>\n",
       "    <tr>\n",
       "      <th>4</th>\n",
       "      <td>AL_23_1_1_0</td>\n",
       "      <td>181,plop,166</td>\n",
       "      <td>2</td>\n",
       "      <td>3.710000e+16</td>\n",
       "    </tr>\n",
       "    <tr>\n",
       "      <th>...</th>\n",
       "      <td>...</td>\n",
       "      <td>...</td>\n",
       "      <td>...</td>\n",
       "      <td>...</td>\n",
       "    </tr>\n",
       "    <tr>\n",
       "      <th>1243</th>\n",
       "      <td>pab_30_0_0_0</td>\n",
       "      <td>186,plop,161</td>\n",
       "      <td>2</td>\n",
       "      <td>5.386086e+15</td>\n",
       "    </tr>\n",
       "    <tr>\n",
       "      <th>1244</th>\n",
       "      <td>pab_30_0_0_0</td>\n",
       "      <td>181,plop,171</td>\n",
       "      <td>1</td>\n",
       "      <td>6.280000e+16</td>\n",
       "    </tr>\n",
       "    <tr>\n",
       "      <th>1245</th>\n",
       "      <td>pab_30_0_0_0</td>\n",
       "      <td>201,plop,171</td>\n",
       "      <td>2</td>\n",
       "      <td>5.160000e+15</td>\n",
       "    </tr>\n",
       "    <tr>\n",
       "      <th>1246</th>\n",
       "      <td>pab_30_0_0_0</td>\n",
       "      <td>216,plop,201</td>\n",
       "      <td>2</td>\n",
       "      <td>5.150000e+16</td>\n",
       "    </tr>\n",
       "    <tr>\n",
       "      <th>1247</th>\n",
       "      <td>pab_30_0_0_0</td>\n",
       "      <td>166,plop,206</td>\n",
       "      <td>1</td>\n",
       "      <td>4.918186e+15</td>\n",
       "    </tr>\n",
       "  </tbody>\n",
       "</table>\n",
       "<p>1248 rows × 4 columns</p>\n",
       "</div>"
      ],
      "text/plain": [
       "           subject      stimulus  response  reactionTime\n",
       "0      AL_23_1_1_0  211,plop,171         2  3.865739e+15\n",
       "1      AL_23_1_1_0  166,plop,206         1  4.384164e+15\n",
       "2      AL_23_1_1_0  181,plop,191         2  3.754784e+15\n",
       "3      AL_23_1_1_0  191,plop,171         2  3.920000e+16\n",
       "4      AL_23_1_1_0  181,plop,166         2  3.710000e+16\n",
       "...            ...           ...       ...           ...\n",
       "1243  pab_30_0_0_0  186,plop,161         2  5.386086e+15\n",
       "1244  pab_30_0_0_0  181,plop,171         1  6.280000e+16\n",
       "1245  pab_30_0_0_0  201,plop,171         2  5.160000e+15\n",
       "1246  pab_30_0_0_0  216,plop,201         2  5.150000e+16\n",
       "1247  pab_30_0_0_0  166,plop,206         1  4.918186e+15\n",
       "\n",
       "[1248 rows x 4 columns]"
      ]
     },
     "execution_count": 60,
     "metadata": {},
     "output_type": "execute_result"
    }
   ],
   "source": [
    "df = pd.read_csv(\"erg.csv\")\n",
    "df"
   ]
  },
  {
   "cell_type": "code",
   "execution_count": 61,
   "metadata": {},
   "outputs": [
    {
     "data": {
      "text/plain": [
       "subject          object\n",
       "stimulus         object\n",
       "response          int64\n",
       "reactionTime    float64\n",
       "dtype: object"
      ]
     },
     "execution_count": 61,
     "metadata": {},
     "output_type": "execute_result"
    }
   ],
   "source": [
    "df.dtypes"
   ]
  },
  {
   "cell_type": "code",
   "execution_count": 62,
   "metadata": {},
   "outputs": [],
   "source": [
    "df['stimulus'] = df['stimulus']"
   ]
  },
  {
   "cell_type": "code",
   "execution_count": 63,
   "metadata": {},
   "outputs": [
    {
     "data": {
      "text/plain": [
       "subject          object\n",
       "stimulus         object\n",
       "response          int64\n",
       "reactionTime    float64\n",
       "dtype: object"
      ]
     },
     "execution_count": 63,
     "metadata": {},
     "output_type": "execute_result"
    }
   ],
   "source": [
    "df.dtypes"
   ]
  },
  {
   "cell_type": "code",
   "execution_count": 64,
   "metadata": {},
   "outputs": [
    {
     "data": {
      "text/html": [
       "<div>\n",
       "<style scoped>\n",
       "    .dataframe tbody tr th:only-of-type {\n",
       "        vertical-align: middle;\n",
       "    }\n",
       "\n",
       "    .dataframe tbody tr th {\n",
       "        vertical-align: top;\n",
       "    }\n",
       "\n",
       "    .dataframe thead th {\n",
       "        text-align: right;\n",
       "    }\n",
       "</style>\n",
       "<table border=\"1\" class=\"dataframe\">\n",
       "  <thead>\n",
       "    <tr style=\"text-align: right;\">\n",
       "      <th></th>\n",
       "      <th>subject</th>\n",
       "      <th>stimulus</th>\n",
       "      <th>response</th>\n",
       "      <th>reactionTime</th>\n",
       "    </tr>\n",
       "  </thead>\n",
       "  <tbody>\n",
       "    <tr>\n",
       "      <th>0</th>\n",
       "      <td>AL_23_1_1_0</td>\n",
       "      <td>211,plop,171</td>\n",
       "      <td>2</td>\n",
       "      <td>3.865739e+15</td>\n",
       "    </tr>\n",
       "    <tr>\n",
       "      <th>1</th>\n",
       "      <td>AL_23_1_1_0</td>\n",
       "      <td>166,plop,206</td>\n",
       "      <td>1</td>\n",
       "      <td>4.384164e+15</td>\n",
       "    </tr>\n",
       "    <tr>\n",
       "      <th>2</th>\n",
       "      <td>AL_23_1_1_0</td>\n",
       "      <td>181,plop,191</td>\n",
       "      <td>2</td>\n",
       "      <td>3.754784e+15</td>\n",
       "    </tr>\n",
       "    <tr>\n",
       "      <th>3</th>\n",
       "      <td>AL_23_1_1_0</td>\n",
       "      <td>191,plop,171</td>\n",
       "      <td>2</td>\n",
       "      <td>3.920000e+16</td>\n",
       "    </tr>\n",
       "    <tr>\n",
       "      <th>4</th>\n",
       "      <td>AL_23_1_1_0</td>\n",
       "      <td>181,plop,166</td>\n",
       "      <td>2</td>\n",
       "      <td>3.710000e+16</td>\n",
       "    </tr>\n",
       "    <tr>\n",
       "      <th>...</th>\n",
       "      <td>...</td>\n",
       "      <td>...</td>\n",
       "      <td>...</td>\n",
       "      <td>...</td>\n",
       "    </tr>\n",
       "    <tr>\n",
       "      <th>1243</th>\n",
       "      <td>pab_30_0_0_0</td>\n",
       "      <td>186,plop,161</td>\n",
       "      <td>2</td>\n",
       "      <td>5.386086e+15</td>\n",
       "    </tr>\n",
       "    <tr>\n",
       "      <th>1244</th>\n",
       "      <td>pab_30_0_0_0</td>\n",
       "      <td>181,plop,171</td>\n",
       "      <td>1</td>\n",
       "      <td>6.280000e+16</td>\n",
       "    </tr>\n",
       "    <tr>\n",
       "      <th>1245</th>\n",
       "      <td>pab_30_0_0_0</td>\n",
       "      <td>201,plop,171</td>\n",
       "      <td>2</td>\n",
       "      <td>5.160000e+15</td>\n",
       "    </tr>\n",
       "    <tr>\n",
       "      <th>1246</th>\n",
       "      <td>pab_30_0_0_0</td>\n",
       "      <td>216,plop,201</td>\n",
       "      <td>2</td>\n",
       "      <td>5.150000e+16</td>\n",
       "    </tr>\n",
       "    <tr>\n",
       "      <th>1247</th>\n",
       "      <td>pab_30_0_0_0</td>\n",
       "      <td>166,plop,206</td>\n",
       "      <td>1</td>\n",
       "      <td>4.918186e+15</td>\n",
       "    </tr>\n",
       "  </tbody>\n",
       "</table>\n",
       "<p>1248 rows × 4 columns</p>\n",
       "</div>"
      ],
      "text/plain": [
       "           subject      stimulus  response  reactionTime\n",
       "0      AL_23_1_1_0  211,plop,171         2  3.865739e+15\n",
       "1      AL_23_1_1_0  166,plop,206         1  4.384164e+15\n",
       "2      AL_23_1_1_0  181,plop,191         2  3.754784e+15\n",
       "3      AL_23_1_1_0  191,plop,171         2  3.920000e+16\n",
       "4      AL_23_1_1_0  181,plop,166         2  3.710000e+16\n",
       "...            ...           ...       ...           ...\n",
       "1243  pab_30_0_0_0  186,plop,161         2  5.386086e+15\n",
       "1244  pab_30_0_0_0  181,plop,171         1  6.280000e+16\n",
       "1245  pab_30_0_0_0  201,plop,171         2  5.160000e+15\n",
       "1246  pab_30_0_0_0  216,plop,201         2  5.150000e+16\n",
       "1247  pab_30_0_0_0  166,plop,206         1  4.918186e+15\n",
       "\n",
       "[1248 rows x 4 columns]"
      ]
     },
     "execution_count": 64,
     "metadata": {},
     "output_type": "execute_result"
    }
   ],
   "source": [
    "df"
   ]
  },
  {
   "cell_type": "code",
   "execution_count": 65,
   "metadata": {},
   "outputs": [],
   "source": [
    "\n",
    "# Using Series.values.tolist()\n",
    "col_list = df[\"stimulus\"] #.values.tolist()"
   ]
  },
  {
   "cell_type": "code",
   "execution_count": 66,
   "metadata": {},
   "outputs": [
    {
     "data": {
      "text/plain": [
       "0       211,plop,171\n",
       "1       166,plop,206\n",
       "2       181,plop,191\n",
       "3       191,plop,171\n",
       "4       181,plop,166\n",
       "            ...     \n",
       "1243    186,plop,161\n",
       "1244    181,plop,171\n",
       "1245    201,plop,171\n",
       "1246    216,plop,201\n",
       "1247    166,plop,206\n",
       "Name: stimulus, Length: 1248, dtype: object"
      ]
     },
     "execution_count": 66,
     "metadata": {},
     "output_type": "execute_result"
    }
   ],
   "source": [
    "df[\"stimulus\"]"
   ]
  },
  {
   "cell_type": "code",
   "execution_count": 67,
   "metadata": {},
   "outputs": [],
   "source": [
    "#df['stimulus'] = df['stimulus'].str.split(',').map(lambda elements: [e.strip() for e in elements])\n"
   ]
  },
  {
   "cell_type": "code",
   "execution_count": 68,
   "metadata": {},
   "outputs": [],
   "source": [
    "#df['stimulus'] = df.stimulus.apply(lambda x: [i for i in x if i != 'plop'])"
   ]
  },
  {
   "cell_type": "code",
   "execution_count": 69,
   "metadata": {},
   "outputs": [
    {
     "data": {
      "text/plain": [
       "0       211,plop,171\n",
       "1       166,plop,206\n",
       "2       181,plop,191\n",
       "3       191,plop,171\n",
       "4       181,plop,166\n",
       "            ...     \n",
       "1243    186,plop,161\n",
       "1244    181,plop,171\n",
       "1245    201,plop,171\n",
       "1246    216,plop,201\n",
       "1247    166,plop,206\n",
       "Name: stimulus, Length: 1248, dtype: object"
      ]
     },
     "execution_count": 69,
     "metadata": {},
     "output_type": "execute_result"
    }
   ],
   "source": [
    "df['stimulus']"
   ]
  },
  {
   "cell_type": "code",
   "execution_count": 81,
   "metadata": {},
   "outputs": [],
   "source": [
    "#Erstelle zwei Spalten für ersten und zweiten Stimulus\n",
    "\n",
    "df['stimulus_1'] = df['stimulus'].str[:3]\n",
    "df['stimulus_2'] = df['stimulus'].str[9:12]"
   ]
  },
  {
   "cell_type": "code",
   "execution_count": 82,
   "metadata": {},
   "outputs": [
    {
     "data": {
      "text/plain": [
       "dtype('O')"
      ]
     },
     "execution_count": 82,
     "metadata": {},
     "output_type": "execute_result"
    }
   ],
   "source": [
    "df['stimulus_1'].dtype"
   ]
  },
  {
   "cell_type": "code",
   "execution_count": 83,
   "metadata": {},
   "outputs": [],
   "source": [
    "#df['stimulus_1'] = pd.Series(df['stimulus_1'], dtype='int')"
   ]
  },
  {
   "cell_type": "code",
   "execution_count": 84,
   "metadata": {},
   "outputs": [],
   "source": [
    "#df['stimulus_2'] = pd.Series(df['stimulus_2'], dtype='int')"
   ]
  },
  {
   "cell_type": "code",
   "execution_count": 85,
   "metadata": {},
   "outputs": [
    {
     "data": {
      "text/plain": [
       "0       211\n",
       "1       166\n",
       "2       181\n",
       "3       191\n",
       "4       181\n",
       "       ... \n",
       "1243    186\n",
       "1244    181\n",
       "1245    201\n",
       "1246    216\n",
       "1247    166\n",
       "Name: stimulus_1, Length: 1248, dtype: object"
      ]
     },
     "execution_count": 85,
     "metadata": {},
     "output_type": "execute_result"
    }
   ],
   "source": [
    "df['stimulus_1']"
   ]
  },
  {
   "cell_type": "code",
   "execution_count": 86,
   "metadata": {},
   "outputs": [
    {
     "data": {
      "text/plain": [
       "0       171\n",
       "1       206\n",
       "2       191\n",
       "3       171\n",
       "4       166\n",
       "       ... \n",
       "1243    161\n",
       "1244    171\n",
       "1245    171\n",
       "1246    201\n",
       "1247    206\n",
       "Name: stimulus_2, Length: 1248, dtype: object"
      ]
     },
     "execution_count": 86,
     "metadata": {},
     "output_type": "execute_result"
    }
   ],
   "source": [
    "df['stimulus_2']"
   ]
  },
  {
   "cell_type": "code",
   "execution_count": 87,
   "metadata": {},
   "outputs": [],
   "source": [
    "#Codiere die Responses 1+2 1:0 -- Wenn der erste Stimulus gewählt wird 1, wenn der zweite gewählt wird eine -1\n",
    "df['response_new'] = df['response'].apply(lambda x: 1 if x == 1 else -1)"
   ]
  },
  {
   "cell_type": "code",
   "execution_count": 78,
   "metadata": {},
   "outputs": [
    {
     "data": {
      "text/plain": [
       "0      -1\n",
       "1       1\n",
       "2      -1\n",
       "3      -1\n",
       "4      -1\n",
       "       ..\n",
       "1243   -1\n",
       "1244    1\n",
       "1245   -1\n",
       "1246   -1\n",
       "1247    1\n",
       "Name: response_new, Length: 1248, dtype: int64"
      ]
     },
     "execution_count": 78,
     "metadata": {},
     "output_type": "execute_result"
    }
   ],
   "source": [
    "df['response_new']"
   ]
  },
  {
   "cell_type": "code",
   "execution_count": 90,
   "metadata": {},
   "outputs": [],
   "source": [
    "#Gruppiere nach den beiden Spalten, daraus ergibt sich eine Matrix - Gleichzeitig summiere die Werte\n",
    "df = df.groupby(['stimulus_1', 'stimulus_2'])[('response_new')].sum().unstack()"
   ]
  },
  {
   "cell_type": "code",
   "execution_count": 91,
   "metadata": {},
   "outputs": [
    {
     "data": {
      "text/html": [
       "<div>\n",
       "<style scoped>\n",
       "    .dataframe tbody tr th:only-of-type {\n",
       "        vertical-align: middle;\n",
       "    }\n",
       "\n",
       "    .dataframe tbody tr th {\n",
       "        vertical-align: top;\n",
       "    }\n",
       "\n",
       "    .dataframe thead th {\n",
       "        text-align: right;\n",
       "    }\n",
       "</style>\n",
       "<table border=\"1\" class=\"dataframe\">\n",
       "  <thead>\n",
       "    <tr style=\"text-align: right;\">\n",
       "      <th>stimulus_2</th>\n",
       "      <th>161</th>\n",
       "      <th>166</th>\n",
       "      <th>171</th>\n",
       "      <th>176</th>\n",
       "      <th>181</th>\n",
       "      <th>186</th>\n",
       "      <th>191</th>\n",
       "      <th>196</th>\n",
       "      <th>201</th>\n",
       "      <th>206</th>\n",
       "      <th>211</th>\n",
       "      <th>216</th>\n",
       "      <th>221</th>\n",
       "    </tr>\n",
       "    <tr>\n",
       "      <th>stimulus_1</th>\n",
       "      <th></th>\n",
       "      <th></th>\n",
       "      <th></th>\n",
       "      <th></th>\n",
       "      <th></th>\n",
       "      <th></th>\n",
       "      <th></th>\n",
       "      <th></th>\n",
       "      <th></th>\n",
       "      <th></th>\n",
       "      <th></th>\n",
       "      <th></th>\n",
       "      <th></th>\n",
       "    </tr>\n",
       "  </thead>\n",
       "  <tbody>\n",
       "    <tr>\n",
       "      <th>161</th>\n",
       "      <td>NaN</td>\n",
       "      <td>NaN</td>\n",
       "      <td>10.0</td>\n",
       "      <td>NaN</td>\n",
       "      <td>16.0</td>\n",
       "      <td>NaN</td>\n",
       "      <td>14.0</td>\n",
       "      <td>NaN</td>\n",
       "      <td>12.0</td>\n",
       "      <td>NaN</td>\n",
       "      <td>10.0</td>\n",
       "      <td>NaN</td>\n",
       "      <td>12.0</td>\n",
       "    </tr>\n",
       "    <tr>\n",
       "      <th>166</th>\n",
       "      <td>-4.0</td>\n",
       "      <td>NaN</td>\n",
       "      <td>NaN</td>\n",
       "      <td>8.0</td>\n",
       "      <td>NaN</td>\n",
       "      <td>16.0</td>\n",
       "      <td>NaN</td>\n",
       "      <td>14.0</td>\n",
       "      <td>NaN</td>\n",
       "      <td>16.0</td>\n",
       "      <td>NaN</td>\n",
       "      <td>12.0</td>\n",
       "      <td>NaN</td>\n",
       "    </tr>\n",
       "    <tr>\n",
       "      <th>171</th>\n",
       "      <td>NaN</td>\n",
       "      <td>-4.0</td>\n",
       "      <td>NaN</td>\n",
       "      <td>10.0</td>\n",
       "      <td>NaN</td>\n",
       "      <td>12.0</td>\n",
       "      <td>NaN</td>\n",
       "      <td>12.0</td>\n",
       "      <td>NaN</td>\n",
       "      <td>12.0</td>\n",
       "      <td>NaN</td>\n",
       "      <td>14.0</td>\n",
       "      <td>NaN</td>\n",
       "    </tr>\n",
       "    <tr>\n",
       "      <th>176</th>\n",
       "      <td>-12.0</td>\n",
       "      <td>NaN</td>\n",
       "      <td>NaN</td>\n",
       "      <td>NaN</td>\n",
       "      <td>8.0</td>\n",
       "      <td>NaN</td>\n",
       "      <td>6.0</td>\n",
       "      <td>NaN</td>\n",
       "      <td>8.0</td>\n",
       "      <td>NaN</td>\n",
       "      <td>14.0</td>\n",
       "      <td>NaN</td>\n",
       "      <td>14.0</td>\n",
       "    </tr>\n",
       "    <tr>\n",
       "      <th>181</th>\n",
       "      <td>NaN</td>\n",
       "      <td>-8.0</td>\n",
       "      <td>-10.0</td>\n",
       "      <td>NaN</td>\n",
       "      <td>NaN</td>\n",
       "      <td>NaN</td>\n",
       "      <td>4.0</td>\n",
       "      <td>NaN</td>\n",
       "      <td>14.0</td>\n",
       "      <td>NaN</td>\n",
       "      <td>14.0</td>\n",
       "      <td>NaN</td>\n",
       "      <td>16.0</td>\n",
       "    </tr>\n",
       "    <tr>\n",
       "      <th>186</th>\n",
       "      <td>-16.0</td>\n",
       "      <td>NaN</td>\n",
       "      <td>NaN</td>\n",
       "      <td>-2.0</td>\n",
       "      <td>-6.0</td>\n",
       "      <td>NaN</td>\n",
       "      <td>NaN</td>\n",
       "      <td>10.0</td>\n",
       "      <td>NaN</td>\n",
       "      <td>14.0</td>\n",
       "      <td>NaN</td>\n",
       "      <td>12.0</td>\n",
       "      <td>NaN</td>\n",
       "    </tr>\n",
       "    <tr>\n",
       "      <th>191</th>\n",
       "      <td>NaN</td>\n",
       "      <td>-12.0</td>\n",
       "      <td>-8.0</td>\n",
       "      <td>NaN</td>\n",
       "      <td>NaN</td>\n",
       "      <td>6.0</td>\n",
       "      <td>NaN</td>\n",
       "      <td>8.0</td>\n",
       "      <td>NaN</td>\n",
       "      <td>10.0</td>\n",
       "      <td>NaN</td>\n",
       "      <td>8.0</td>\n",
       "      <td>NaN</td>\n",
       "    </tr>\n",
       "    <tr>\n",
       "      <th>196</th>\n",
       "      <td>-14.0</td>\n",
       "      <td>NaN</td>\n",
       "      <td>NaN</td>\n",
       "      <td>-8.0</td>\n",
       "      <td>-10.0</td>\n",
       "      <td>NaN</td>\n",
       "      <td>NaN</td>\n",
       "      <td>NaN</td>\n",
       "      <td>12.0</td>\n",
       "      <td>NaN</td>\n",
       "      <td>10.0</td>\n",
       "      <td>NaN</td>\n",
       "      <td>12.0</td>\n",
       "    </tr>\n",
       "    <tr>\n",
       "      <th>201</th>\n",
       "      <td>NaN</td>\n",
       "      <td>-14.0</td>\n",
       "      <td>-12.0</td>\n",
       "      <td>NaN</td>\n",
       "      <td>NaN</td>\n",
       "      <td>-10.0</td>\n",
       "      <td>-12.0</td>\n",
       "      <td>NaN</td>\n",
       "      <td>NaN</td>\n",
       "      <td>NaN</td>\n",
       "      <td>14.0</td>\n",
       "      <td>NaN</td>\n",
       "      <td>14.0</td>\n",
       "    </tr>\n",
       "    <tr>\n",
       "      <th>206</th>\n",
       "      <td>-12.0</td>\n",
       "      <td>NaN</td>\n",
       "      <td>NaN</td>\n",
       "      <td>-10.0</td>\n",
       "      <td>-10.0</td>\n",
       "      <td>NaN</td>\n",
       "      <td>NaN</td>\n",
       "      <td>-12.0</td>\n",
       "      <td>-2.0</td>\n",
       "      <td>NaN</td>\n",
       "      <td>NaN</td>\n",
       "      <td>10.0</td>\n",
       "      <td>NaN</td>\n",
       "    </tr>\n",
       "    <tr>\n",
       "      <th>211</th>\n",
       "      <td>NaN</td>\n",
       "      <td>-12.0</td>\n",
       "      <td>-12.0</td>\n",
       "      <td>NaN</td>\n",
       "      <td>NaN</td>\n",
       "      <td>-14.0</td>\n",
       "      <td>-14.0</td>\n",
       "      <td>NaN</td>\n",
       "      <td>NaN</td>\n",
       "      <td>2.0</td>\n",
       "      <td>NaN</td>\n",
       "      <td>12.0</td>\n",
       "      <td>NaN</td>\n",
       "    </tr>\n",
       "    <tr>\n",
       "      <th>216</th>\n",
       "      <td>-14.0</td>\n",
       "      <td>NaN</td>\n",
       "      <td>NaN</td>\n",
       "      <td>-16.0</td>\n",
       "      <td>-10.0</td>\n",
       "      <td>NaN</td>\n",
       "      <td>NaN</td>\n",
       "      <td>-6.0</td>\n",
       "      <td>-6.0</td>\n",
       "      <td>NaN</td>\n",
       "      <td>NaN</td>\n",
       "      <td>NaN</td>\n",
       "      <td>10.0</td>\n",
       "    </tr>\n",
       "    <tr>\n",
       "      <th>221</th>\n",
       "      <td>NaN</td>\n",
       "      <td>-14.0</td>\n",
       "      <td>-16.0</td>\n",
       "      <td>NaN</td>\n",
       "      <td>NaN</td>\n",
       "      <td>-14.0</td>\n",
       "      <td>-10.0</td>\n",
       "      <td>NaN</td>\n",
       "      <td>NaN</td>\n",
       "      <td>-8.0</td>\n",
       "      <td>-2.0</td>\n",
       "      <td>NaN</td>\n",
       "      <td>NaN</td>\n",
       "    </tr>\n",
       "  </tbody>\n",
       "</table>\n",
       "</div>"
      ],
      "text/plain": [
       "stimulus_2   161   166   171   176   181   186   191   196   201   206   211  \\\n",
       "stimulus_1                                                                     \n",
       "161          NaN   NaN  10.0   NaN  16.0   NaN  14.0   NaN  12.0   NaN  10.0   \n",
       "166         -4.0   NaN   NaN   8.0   NaN  16.0   NaN  14.0   NaN  16.0   NaN   \n",
       "171          NaN  -4.0   NaN  10.0   NaN  12.0   NaN  12.0   NaN  12.0   NaN   \n",
       "176        -12.0   NaN   NaN   NaN   8.0   NaN   6.0   NaN   8.0   NaN  14.0   \n",
       "181          NaN  -8.0 -10.0   NaN   NaN   NaN   4.0   NaN  14.0   NaN  14.0   \n",
       "186        -16.0   NaN   NaN  -2.0  -6.0   NaN   NaN  10.0   NaN  14.0   NaN   \n",
       "191          NaN -12.0  -8.0   NaN   NaN   6.0   NaN   8.0   NaN  10.0   NaN   \n",
       "196        -14.0   NaN   NaN  -8.0 -10.0   NaN   NaN   NaN  12.0   NaN  10.0   \n",
       "201          NaN -14.0 -12.0   NaN   NaN -10.0 -12.0   NaN   NaN   NaN  14.0   \n",
       "206        -12.0   NaN   NaN -10.0 -10.0   NaN   NaN -12.0  -2.0   NaN   NaN   \n",
       "211          NaN -12.0 -12.0   NaN   NaN -14.0 -14.0   NaN   NaN   2.0   NaN   \n",
       "216        -14.0   NaN   NaN -16.0 -10.0   NaN   NaN  -6.0  -6.0   NaN   NaN   \n",
       "221          NaN -14.0 -16.0   NaN   NaN -14.0 -10.0   NaN   NaN  -8.0  -2.0   \n",
       "\n",
       "stimulus_2   216   221  \n",
       "stimulus_1              \n",
       "161          NaN  12.0  \n",
       "166         12.0   NaN  \n",
       "171         14.0   NaN  \n",
       "176          NaN  14.0  \n",
       "181          NaN  16.0  \n",
       "186         12.0   NaN  \n",
       "191          8.0   NaN  \n",
       "196          NaN  12.0  \n",
       "201          NaN  14.0  \n",
       "206         10.0   NaN  \n",
       "211         12.0   NaN  \n",
       "216          NaN  10.0  \n",
       "221          NaN   NaN  "
      ]
     },
     "execution_count": 91,
     "metadata": {},
     "output_type": "execute_result"
    }
   ],
   "source": [
    "df"
   ]
  }
 ],
 "metadata": {
  "kernelspec": {
   "display_name": "Python 3.8.10 ('venv': venv)",
   "language": "python",
   "name": "python3"
  },
  "language_info": {
   "codemirror_mode": {
    "name": "ipython",
    "version": 3
   },
   "file_extension": ".py",
   "mimetype": "text/x-python",
   "name": "python",
   "nbconvert_exporter": "python",
   "pygments_lexer": "ipython3",
   "version": "3.8.10"
  },
  "orig_nbformat": 4,
  "vscode": {
   "interpreter": {
    "hash": "5332b62c93ae8f8a64acd3157eafaab09c5525c691dff48281c02c0d0eb50625"
   }
  }
 },
 "nbformat": 4,
 "nbformat_minor": 2
}
